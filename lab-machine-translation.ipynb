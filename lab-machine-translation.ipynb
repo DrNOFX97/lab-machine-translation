{
 "cells": [
  {
   "cell_type": "markdown",
   "metadata": {},
   "source": [
    "# Lab | Text Generation from Shakespeare's Sonnet"
   ]
  },
  {
   "cell_type": "code",
   "execution_count": 3,
   "metadata": {
    "id": "BOwsuGQQY9OL"
   },
   "outputs": [],
   "source": [
    "from tensorflow.keras.preprocessing.sequence import pad_sequences\n",
    "from tensorflow.keras.layers import Embedding, LSTM, Dense, Dropout, Bidirectional\n",
    "from tensorflow.keras.preprocessing.text import Tokenizer\n",
    "from tensorflow.keras.models import Sequential\n",
    "from tensorflow.keras.optimizers import Adam\n",
    "### YOUR CODE HERE\n",
    "# Figure out how to import regularizers\n",
    "from tensorflow.keras.regularizers import l2  # Importing regularizers for use in Dense layers\n",
    "import tensorflow.keras.utils as ku \n",
    "import numpy as np "
   ]
  },
  {
   "cell_type": "code",
   "execution_count": 4,
   "metadata": {
    "id": "PRnDnCW-Z7qv"
   },
   "outputs": [],
   "source": [
    "tokenizer = Tokenizer()\n",
    "#!wget --no-check-certificate \\\n",
    "#    https://storage.googleapis.com/laurencemoroney-blog.appspot.com/sonnets.txt \\\n",
    "#    -O /tmp/sonnets.txt"
   ]
  },
  {
   "cell_type": "code",
   "execution_count": 5,
   "metadata": {},
   "outputs": [
    {
     "name": "stderr",
     "output_type": "stream",
     "text": [
      "/opt/anaconda3/lib/python3.11/site-packages/keras/src/layers/core/embedding.py:90: UserWarning: Argument `input_length` is deprecated. Just remove it.\n",
      "  warnings.warn(\n",
      "2024-06-14 00:44:40.440434: I metal_plugin/src/device/metal_device.cc:1154] Metal device set to: Apple M1\n",
      "2024-06-14 00:44:40.440478: I metal_plugin/src/device/metal_device.cc:296] systemMemory: 16.00 GB\n",
      "2024-06-14 00:44:40.440488: I metal_plugin/src/device/metal_device.cc:313] maxCacheSize: 5.33 GB\n",
      "2024-06-14 00:44:40.440522: I tensorflow/core/common_runtime/pluggable_device/pluggable_device_factory.cc:305] Could not identify NUMA node of platform GPU ID 0, defaulting to 0. Your kernel may not have been built with NUMA support.\n",
      "2024-06-14 00:44:40.440544: I tensorflow/core/common_runtime/pluggable_device/pluggable_device_factory.cc:271] Created TensorFlow device (/job:localhost/replica:0/task:0/device:GPU:0 with 0 MB memory) -> physical PluggableDevice (device: 0, name: METAL, pci bus id: <undefined>)\n"
     ]
    },
    {
     "data": {
      "text/html": [
       "<pre style=\"white-space:pre;overflow-x:auto;line-height:normal;font-family:Menlo,'DejaVu Sans Mono',consolas,'Courier New',monospace\"><span style=\"font-weight: bold\">Model: \"sequential\"</span>\n",
       "</pre>\n"
      ],
      "text/plain": [
       "\u001b[1mModel: \"sequential\"\u001b[0m\n"
      ]
     },
     "metadata": {},
     "output_type": "display_data"
    },
    {
     "data": {
      "text/html": [
       "<pre style=\"white-space:pre;overflow-x:auto;line-height:normal;font-family:Menlo,'DejaVu Sans Mono',consolas,'Courier New',monospace\">┏━━━━━━━━━━━━━━━━━━━━━━━━━━━━━━━━━┳━━━━━━━━━━━━━━━━━━━━━━━━┳━━━━━━━━━━━━━━━┓\n",
       "┃<span style=\"font-weight: bold\"> Layer (type)                    </span>┃<span style=\"font-weight: bold\"> Output Shape           </span>┃<span style=\"font-weight: bold\">       Param # </span>┃\n",
       "┡━━━━━━━━━━━━━━━━━━━━━━━━━━━━━━━━━╇━━━━━━━━━━━━━━━━━━━━━━━━╇━━━━━━━━━━━━━━━┩\n",
       "│ embedding (<span style=\"color: #0087ff; text-decoration-color: #0087ff\">Embedding</span>)           │ (<span style=\"color: #00d7ff; text-decoration-color: #00d7ff\">None</span>, <span style=\"color: #00af00; text-decoration-color: #00af00\">11</span>, <span style=\"color: #00af00; text-decoration-color: #00af00\">100</span>)        │       <span style=\"color: #00af00; text-decoration-color: #00af00\">348,700</span> │\n",
       "├─────────────────────────────────┼────────────────────────┼───────────────┤\n",
       "│ lstm (<span style=\"color: #0087ff; text-decoration-color: #0087ff\">LSTM</span>)                     │ (<span style=\"color: #00d7ff; text-decoration-color: #00d7ff\">None</span>, <span style=\"color: #00af00; text-decoration-color: #00af00\">11</span>, <span style=\"color: #00af00; text-decoration-color: #00af00\">150</span>)        │       <span style=\"color: #00af00; text-decoration-color: #00af00\">150,600</span> │\n",
       "├─────────────────────────────────┼────────────────────────┼───────────────┤\n",
       "│ dropout (<span style=\"color: #0087ff; text-decoration-color: #0087ff\">Dropout</span>)               │ (<span style=\"color: #00d7ff; text-decoration-color: #00d7ff\">None</span>, <span style=\"color: #00af00; text-decoration-color: #00af00\">11</span>, <span style=\"color: #00af00; text-decoration-color: #00af00\">150</span>)        │             <span style=\"color: #00af00; text-decoration-color: #00af00\">0</span> │\n",
       "├─────────────────────────────────┼────────────────────────┼───────────────┤\n",
       "│ lstm_1 (<span style=\"color: #0087ff; text-decoration-color: #0087ff\">LSTM</span>)                   │ (<span style=\"color: #00d7ff; text-decoration-color: #00d7ff\">None</span>, <span style=\"color: #00af00; text-decoration-color: #00af00\">100</span>)            │       <span style=\"color: #00af00; text-decoration-color: #00af00\">100,400</span> │\n",
       "├─────────────────────────────────┼────────────────────────┼───────────────┤\n",
       "│ dense (<span style=\"color: #0087ff; text-decoration-color: #0087ff\">Dense</span>)                   │ (<span style=\"color: #00d7ff; text-decoration-color: #00d7ff\">None</span>, <span style=\"color: #00af00; text-decoration-color: #00af00\">64</span>)             │         <span style=\"color: #00af00; text-decoration-color: #00af00\">6,464</span> │\n",
       "├─────────────────────────────────┼────────────────────────┼───────────────┤\n",
       "│ dense_1 (<span style=\"color: #0087ff; text-decoration-color: #0087ff\">Dense</span>)                 │ (<span style=\"color: #00d7ff; text-decoration-color: #00d7ff\">None</span>, <span style=\"color: #00af00; text-decoration-color: #00af00\">3487</span>)           │       <span style=\"color: #00af00; text-decoration-color: #00af00\">226,655</span> │\n",
       "└─────────────────────────────────┴────────────────────────┴───────────────┘\n",
       "</pre>\n"
      ],
      "text/plain": [
       "┏━━━━━━━━━━━━━━━━━━━━━━━━━━━━━━━━━┳━━━━━━━━━━━━━━━━━━━━━━━━┳━━━━━━━━━━━━━━━┓\n",
       "┃\u001b[1m \u001b[0m\u001b[1mLayer (type)                   \u001b[0m\u001b[1m \u001b[0m┃\u001b[1m \u001b[0m\u001b[1mOutput Shape          \u001b[0m\u001b[1m \u001b[0m┃\u001b[1m \u001b[0m\u001b[1m      Param #\u001b[0m\u001b[1m \u001b[0m┃\n",
       "┡━━━━━━━━━━━━━━━━━━━━━━━━━━━━━━━━━╇━━━━━━━━━━━━━━━━━━━━━━━━╇━━━━━━━━━━━━━━━┩\n",
       "│ embedding (\u001b[38;5;33mEmbedding\u001b[0m)           │ (\u001b[38;5;45mNone\u001b[0m, \u001b[38;5;34m11\u001b[0m, \u001b[38;5;34m100\u001b[0m)        │       \u001b[38;5;34m348,700\u001b[0m │\n",
       "├─────────────────────────────────┼────────────────────────┼───────────────┤\n",
       "│ lstm (\u001b[38;5;33mLSTM\u001b[0m)                     │ (\u001b[38;5;45mNone\u001b[0m, \u001b[38;5;34m11\u001b[0m, \u001b[38;5;34m150\u001b[0m)        │       \u001b[38;5;34m150,600\u001b[0m │\n",
       "├─────────────────────────────────┼────────────────────────┼───────────────┤\n",
       "│ dropout (\u001b[38;5;33mDropout\u001b[0m)               │ (\u001b[38;5;45mNone\u001b[0m, \u001b[38;5;34m11\u001b[0m, \u001b[38;5;34m150\u001b[0m)        │             \u001b[38;5;34m0\u001b[0m │\n",
       "├─────────────────────────────────┼────────────────────────┼───────────────┤\n",
       "│ lstm_1 (\u001b[38;5;33mLSTM\u001b[0m)                   │ (\u001b[38;5;45mNone\u001b[0m, \u001b[38;5;34m100\u001b[0m)            │       \u001b[38;5;34m100,400\u001b[0m │\n",
       "├─────────────────────────────────┼────────────────────────┼───────────────┤\n",
       "│ dense (\u001b[38;5;33mDense\u001b[0m)                   │ (\u001b[38;5;45mNone\u001b[0m, \u001b[38;5;34m64\u001b[0m)             │         \u001b[38;5;34m6,464\u001b[0m │\n",
       "├─────────────────────────────────┼────────────────────────┼───────────────┤\n",
       "│ dense_1 (\u001b[38;5;33mDense\u001b[0m)                 │ (\u001b[38;5;45mNone\u001b[0m, \u001b[38;5;34m3487\u001b[0m)           │       \u001b[38;5;34m226,655\u001b[0m │\n",
       "└─────────────────────────────────┴────────────────────────┴───────────────┘\n"
      ]
     },
     "metadata": {},
     "output_type": "display_data"
    },
    {
     "data": {
      "text/html": [
       "<pre style=\"white-space:pre;overflow-x:auto;line-height:normal;font-family:Menlo,'DejaVu Sans Mono',consolas,'Courier New',monospace\"><span style=\"font-weight: bold\"> Total params: </span><span style=\"color: #00af00; text-decoration-color: #00af00\">832,819</span> (3.18 MB)\n",
       "</pre>\n"
      ],
      "text/plain": [
       "\u001b[1m Total params: \u001b[0m\u001b[38;5;34m832,819\u001b[0m (3.18 MB)\n"
      ]
     },
     "metadata": {},
     "output_type": "display_data"
    },
    {
     "data": {
      "text/html": [
       "<pre style=\"white-space:pre;overflow-x:auto;line-height:normal;font-family:Menlo,'DejaVu Sans Mono',consolas,'Courier New',monospace\"><span style=\"font-weight: bold\"> Trainable params: </span><span style=\"color: #00af00; text-decoration-color: #00af00\">832,819</span> (3.18 MB)\n",
       "</pre>\n"
      ],
      "text/plain": [
       "\u001b[1m Trainable params: \u001b[0m\u001b[38;5;34m832,819\u001b[0m (3.18 MB)\n"
      ]
     },
     "metadata": {},
     "output_type": "display_data"
    },
    {
     "data": {
      "text/html": [
       "<pre style=\"white-space:pre;overflow-x:auto;line-height:normal;font-family:Menlo,'DejaVu Sans Mono',consolas,'Courier New',monospace\"><span style=\"font-weight: bold\"> Non-trainable params: </span><span style=\"color: #00af00; text-decoration-color: #00af00\">0</span> (0.00 B)\n",
       "</pre>\n"
      ],
      "text/plain": [
       "\u001b[1m Non-trainable params: \u001b[0m\u001b[38;5;34m0\u001b[0m (0.00 B)\n"
      ]
     },
     "metadata": {},
     "output_type": "display_data"
    },
    {
     "name": "stdout",
     "output_type": "stream",
     "text": [
      "None\n"
     ]
    }
   ],
   "source": [
    "data = open('sonnets.txt').read()\n",
    "\n",
    "corpus = data.lower().split(\"\\n\")\n",
    "\n",
    "tokenizer.fit_on_texts(corpus)\n",
    "total_words = len(tokenizer.word_index) + 1\n",
    "\n",
    "# create input sequences using list of tokens\n",
    "input_sequences = []\n",
    "for line in corpus:\n",
    "\ttoken_list = tokenizer.texts_to_sequences([line])[0]\n",
    "\tfor i in range(1, len(token_list)):\n",
    "\t\tn_gram_sequence = token_list[:i+1]\n",
    "\t\tinput_sequences.append(n_gram_sequence)\n",
    "\n",
    "# pad sequences \n",
    "max_sequence_len = max([len(x) for x in input_sequences])\n",
    "input_sequences = np.array(pad_sequences(input_sequences, maxlen=max_sequence_len, padding='pre'))\n",
    "\n",
    "# create predictors and label\n",
    "predictors, label = input_sequences[:,:-1],input_sequences[:,-1]\n",
    "\n",
    "label = ku.to_categorical(label, num_classes=total_words)\n",
    "\n",
    "# Example setup to use GPU if available\n",
    "import tensorflow as tf\n",
    "physical_devices = tf.config.list_physical_devices('GPU')\n",
    "tf.config.experimental.set_memory_growth(physical_devices[0], True)  # Adjust based on your GPU memory\n",
    "\n",
    "# Create a Sequential model\n",
    "model = Sequential()\n",
    "\n",
    "# Add an Embedding layer\n",
    "model.add(Embedding(input_dim=total_words, output_dim=100)\n",
    "\n",
    "# Add a Bidirectional LSTM layer\n",
    "model.add(LSTM(150, return_sequences=True))\n",
    "\n",
    "# Add a Dropout layer\n",
    "model.add(Dropout(0.2))\n",
    "\n",
    "# Add another LSTM layer\n",
    "model.add(LSTM(100))\n",
    "\n",
    "# Add a Dense layer with regularization\n",
    "model.add(Dense(64, activation='relu', kernel_regularizer=l2(0.01)))\n",
    "\n",
    "# Add the output Dense layer with softmax activation\n",
    "model.add(Dense(total_words, activation='softmax'))\n",
    "\n",
    "# Build the model to finalize its architecture\n",
    "model.build((None, max_sequence_len))  # Specify input shape; None indicates variable batch size\n",
    "\n",
    "# Compile the model\n",
    "model.compile(\n",
    "    loss='categorical_crossentropy', optimizer=Adam(learning_rate=0.001), metrics=['accuracy'])\n",
    "\n",
    "# Print the compiled model summary\n",
    "print(model.summary())"
   ]
  },
  {
   "cell_type": "code",
   "execution_count": 6,
   "metadata": {
    "id": "AIg2f1HBxqof"
   },
   "outputs": [
    {
     "name": "stdout",
     "output_type": "stream",
     "text": [
      "Epoch 1/100\n"
     ]
    },
    {
     "name": "stderr",
     "output_type": "stream",
     "text": [
      "2024-06-14 00:44:42.156616: I tensorflow/core/grappler/optimizers/custom_graph_optimizer_registry.cc:117] Plugin optimizer for device_type GPU is enabled.\n"
     ]
    },
    {
     "name": "stdout",
     "output_type": "stream",
     "text": [
      "242/242 - 15s - 60ms/step - accuracy: 0.0207 - loss: 7.1054\n",
      "Epoch 2/100\n",
      "242/242 - 10s - 43ms/step - accuracy: 0.0226 - loss: 6.6078\n",
      "Epoch 3/100\n",
      "242/242 - 10s - 43ms/step - accuracy: 0.0216 - loss: 6.5783\n",
      "Epoch 4/100\n",
      "242/242 - 10s - 42ms/step - accuracy: 0.0223 - loss: 6.5685\n",
      "Epoch 5/100\n",
      "242/242 - 10s - 42ms/step - accuracy: 0.0226 - loss: 6.4804\n",
      "Epoch 6/100\n",
      "242/242 - 10s - 43ms/step - accuracy: 0.0209 - loss: 6.3991\n",
      "Epoch 7/100\n",
      "242/242 - 10s - 42ms/step - accuracy: 0.0279 - loss: 6.3141\n",
      "Epoch 8/100\n",
      "242/242 - 10s - 41ms/step - accuracy: 0.0310 - loss: 6.2212\n",
      "Epoch 9/100\n",
      "242/242 - 11s - 45ms/step - accuracy: 0.0336 - loss: 6.1414\n",
      "Epoch 10/100\n",
      "242/242 - 10s - 40ms/step - accuracy: 0.0348 - loss: 6.0796\n",
      "Epoch 11/100\n",
      "242/242 - 10s - 42ms/step - accuracy: 0.0394 - loss: 6.0266\n",
      "Epoch 12/100\n",
      "242/242 - 10s - 43ms/step - accuracy: 0.0421 - loss: 5.9847\n",
      "Epoch 13/100\n",
      "242/242 - 10s - 41ms/step - accuracy: 0.0443 - loss: 5.9410\n",
      "Epoch 14/100\n",
      "242/242 - 11s - 46ms/step - accuracy: 0.0465 - loss: 5.9000\n",
      "Epoch 15/100\n",
      "242/242 - 10s - 40ms/step - accuracy: 0.0462 - loss: 5.8629\n",
      "Epoch 16/100\n",
      "242/242 - 10s - 43ms/step - accuracy: 0.0486 - loss: 5.8211\n",
      "Epoch 17/100\n",
      "242/242 - 10s - 42ms/step - accuracy: 0.0494 - loss: 5.7779\n",
      "Epoch 18/100\n",
      "242/242 - 10s - 42ms/step - accuracy: 0.0525 - loss: 5.7317\n",
      "Epoch 19/100\n",
      "242/242 - 10s - 43ms/step - accuracy: 0.0559 - loss: 5.6860\n",
      "Epoch 20/100\n",
      "242/242 - 10s - 42ms/step - accuracy: 0.0573 - loss: 5.6355\n",
      "Epoch 21/100\n",
      "242/242 - 10s - 43ms/step - accuracy: 0.0619 - loss: 5.5849\n",
      "Epoch 22/100\n",
      "242/242 - 10s - 42ms/step - accuracy: 0.0649 - loss: 5.5410\n",
      "Epoch 23/100\n",
      "242/242 - 10s - 43ms/step - accuracy: 0.0669 - loss: 5.4923\n",
      "Epoch 24/100\n",
      "242/242 - 10s - 42ms/step - accuracy: 0.0692 - loss: 5.4464\n",
      "Epoch 25/100\n",
      "242/242 - 10s - 42ms/step - accuracy: 0.0699 - loss: 5.3978\n",
      "Epoch 26/100\n",
      "242/242 - 11s - 44ms/step - accuracy: 0.0745 - loss: 5.3475\n",
      "Epoch 27/100\n",
      "242/242 - 10s - 41ms/step - accuracy: 0.0752 - loss: 5.3039\n",
      "Epoch 28/100\n",
      "242/242 - 10s - 43ms/step - accuracy: 0.0783 - loss: 5.2626\n",
      "Epoch 29/100\n",
      "242/242 - 10s - 42ms/step - accuracy: 0.0791 - loss: 5.2248\n",
      "Epoch 30/100\n",
      "242/242 - 10s - 42ms/step - accuracy: 0.0835 - loss: 5.1831\n",
      "Epoch 31/100\n",
      "242/242 - 11s - 44ms/step - accuracy: 0.0885 - loss: 5.1416\n",
      "Epoch 32/100\n",
      "242/242 - 10s - 41ms/step - accuracy: 0.0888 - loss: 5.1027\n",
      "Epoch 33/100\n",
      "242/242 - 11s - 46ms/step - accuracy: 0.0918 - loss: 5.0611\n",
      "Epoch 34/100\n",
      "242/242 - 11s - 45ms/step - accuracy: 0.0963 - loss: 5.0259\n",
      "Epoch 35/100\n",
      "242/242 - 11s - 45ms/step - accuracy: 0.0983 - loss: 4.9894\n",
      "Epoch 36/100\n",
      "242/242 - 11s - 44ms/step - accuracy: 0.1030 - loss: 4.9455\n",
      "Epoch 37/100\n",
      "242/242 - 11s - 45ms/step - accuracy: 0.1061 - loss: 4.9058\n",
      "Epoch 38/100\n",
      "242/242 - 11s - 44ms/step - accuracy: 0.1097 - loss: 4.8680\n",
      "Epoch 39/100\n",
      "242/242 - 10s - 42ms/step - accuracy: 0.1120 - loss: 4.8236\n",
      "Epoch 40/100\n",
      "242/242 - 11s - 44ms/step - accuracy: 0.1155 - loss: 4.7849\n",
      "Epoch 41/100\n",
      "242/242 - 10s - 41ms/step - accuracy: 0.1203 - loss: 4.7422\n",
      "Epoch 42/100\n",
      "242/242 - 10s - 43ms/step - accuracy: 0.1253 - loss: 4.6992\n",
      "Epoch 43/100\n",
      "242/242 - 10s - 43ms/step - accuracy: 0.1287 - loss: 4.6580\n",
      "Epoch 44/100\n",
      "242/242 - 10s - 41ms/step - accuracy: 0.1317 - loss: 4.6155\n",
      "Epoch 45/100\n",
      "242/242 - 10s - 43ms/step - accuracy: 0.1370 - loss: 4.5753\n",
      "Epoch 46/100\n",
      "242/242 - 10s - 43ms/step - accuracy: 0.1394 - loss: 4.5318\n",
      "Epoch 47/100\n",
      "242/242 - 11s - 47ms/step - accuracy: 0.1457 - loss: 4.4907\n",
      "Epoch 48/100\n",
      "242/242 - 11s - 46ms/step - accuracy: 0.1488 - loss: 4.4533\n",
      "Epoch 49/100\n",
      "242/242 - 12s - 52ms/step - accuracy: 0.1541 - loss: 4.4089\n",
      "Epoch 50/100\n",
      "242/242 - 10s - 43ms/step - accuracy: 0.1586 - loss: 4.3674\n",
      "Epoch 51/100\n",
      "242/242 - 10s - 43ms/step - accuracy: 0.1614 - loss: 4.3282\n",
      "Epoch 52/100\n",
      "242/242 - 10s - 42ms/step - accuracy: 0.1665 - loss: 4.2875\n",
      "Epoch 53/100\n",
      "242/242 - 10s - 41ms/step - accuracy: 0.1722 - loss: 4.2506\n",
      "Epoch 54/100\n",
      "242/242 - 10s - 43ms/step - accuracy: 0.1759 - loss: 4.2081\n",
      "Epoch 55/100\n",
      "242/242 - 10s - 42ms/step - accuracy: 0.1821 - loss: 4.1671\n",
      "Epoch 56/100\n",
      "242/242 - 11s - 47ms/step - accuracy: 0.1892 - loss: 4.1268\n",
      "Epoch 57/100\n",
      "242/242 - 11s - 46ms/step - accuracy: 0.1930 - loss: 4.0896\n",
      "Epoch 58/100\n",
      "242/242 - 12s - 48ms/step - accuracy: 0.1967 - loss: 4.0545\n",
      "Epoch 59/100\n",
      "242/242 - 11s - 45ms/step - accuracy: 0.2030 - loss: 4.0151\n",
      "Epoch 60/100\n",
      "242/242 - 12s - 48ms/step - accuracy: 0.2093 - loss: 3.9784\n",
      "Epoch 61/100\n",
      "242/242 - 11s - 45ms/step - accuracy: 0.2143 - loss: 3.9466\n",
      "Epoch 62/100\n",
      "242/242 - 998s - 4s/step - accuracy: 0.2197 - loss: 3.9093\n",
      "Epoch 63/100\n",
      "242/242 - 12s - 49ms/step - accuracy: 0.2208 - loss: 3.8807\n",
      "Epoch 64/100\n",
      "242/242 - 12s - 48ms/step - accuracy: 0.2297 - loss: 3.8387\n",
      "Epoch 65/100\n",
      "242/242 - 11s - 46ms/step - accuracy: 0.2329 - loss: 3.8094\n",
      "Epoch 66/100\n",
      "242/242 - 10s - 43ms/step - accuracy: 0.2407 - loss: 3.7730\n",
      "Epoch 67/100\n",
      "242/242 - 10s - 42ms/step - accuracy: 0.2438 - loss: 3.7385\n",
      "Epoch 68/100\n",
      "242/242 - 10s - 43ms/step - accuracy: 0.2544 - loss: 3.7049\n",
      "Epoch 69/100\n",
      "242/242 - 11s - 46ms/step - accuracy: 0.2575 - loss: 3.6797\n",
      "Epoch 70/100\n",
      "242/242 - 11s - 44ms/step - accuracy: 0.2636 - loss: 3.6480\n",
      "Epoch 71/100\n",
      "242/242 - 11s - 46ms/step - accuracy: 0.2704 - loss: 3.6140\n",
      "Epoch 72/100\n",
      "242/242 - 11s - 44ms/step - accuracy: 0.2744 - loss: 3.5869\n",
      "Epoch 73/100\n",
      "242/242 - 11s - 47ms/step - accuracy: 0.2801 - loss: 3.5563\n",
      "Epoch 74/100\n",
      "242/242 - 10s - 43ms/step - accuracy: 0.2867 - loss: 3.5305\n",
      "Epoch 75/100\n",
      "242/242 - 160s - 663ms/step - accuracy: 0.2918 - loss: 3.4948\n",
      "Epoch 76/100\n",
      "242/242 - 10s - 42ms/step - accuracy: 0.2978 - loss: 3.4701\n",
      "Epoch 77/100\n",
      "242/242 - 11s - 47ms/step - accuracy: 0.3034 - loss: 3.4443\n",
      "Epoch 78/100\n",
      "242/242 - 12s - 48ms/step - accuracy: 0.3117 - loss: 3.4144\n",
      "Epoch 79/100\n",
      "242/242 - 9s - 39ms/step - accuracy: 0.3175 - loss: 3.3839\n",
      "Epoch 80/100\n",
      "242/242 - 10s - 42ms/step - accuracy: 0.3211 - loss: 3.3666\n",
      "Epoch 81/100\n",
      "242/242 - 10s - 40ms/step - accuracy: 0.3262 - loss: 3.3369\n",
      "Epoch 82/100\n",
      "242/242 - 10s - 40ms/step - accuracy: 0.3331 - loss: 3.3070\n",
      "Epoch 83/100\n",
      "242/242 - 10s - 42ms/step - accuracy: 0.3385 - loss: 3.2794\n",
      "Epoch 84/100\n",
      "242/242 - 9s - 39ms/step - accuracy: 0.3439 - loss: 3.2527\n",
      "Epoch 85/100\n",
      "242/242 - 10s - 42ms/step - accuracy: 0.3520 - loss: 3.2310\n",
      "Epoch 86/100\n",
      "242/242 - 10s - 41ms/step - accuracy: 0.3561 - loss: 3.2036\n",
      "Epoch 87/100\n",
      "242/242 - 10s - 40ms/step - accuracy: 0.3619 - loss: 3.1784\n",
      "Epoch 88/100\n",
      "242/242 - 10s - 42ms/step - accuracy: 0.3667 - loss: 3.1541\n",
      "Epoch 89/100\n",
      "242/242 - 10s - 40ms/step - accuracy: 0.3750 - loss: 3.1321\n",
      "Epoch 90/100\n",
      "242/242 - 10s - 41ms/step - accuracy: 0.3808 - loss: 3.1023\n",
      "Epoch 91/100\n",
      "242/242 - 20s - 82ms/step - accuracy: 0.3808 - loss: 3.0906\n",
      "Epoch 92/100\n",
      "242/242 - 10s - 43ms/step - accuracy: 0.3868 - loss: 3.0583\n",
      "Epoch 93/100\n",
      "242/242 - 13s - 52ms/step - accuracy: 0.3972 - loss: 3.0371\n",
      "Epoch 94/100\n",
      "242/242 - 11s - 45ms/step - accuracy: 0.4003 - loss: 3.0183\n",
      "Epoch 95/100\n",
      "242/242 - 11s - 47ms/step - accuracy: 0.4085 - loss: 2.9896\n",
      "Epoch 96/100\n",
      "242/242 - 11s - 44ms/step - accuracy: 0.4153 - loss: 2.9653\n",
      "Epoch 97/100\n",
      "242/242 - 11s - 47ms/step - accuracy: 0.4164 - loss: 2.9490\n",
      "Epoch 98/100\n",
      "242/242 - 11s - 44ms/step - accuracy: 0.4231 - loss: 2.9268\n",
      "Epoch 99/100\n",
      "242/242 - 11s - 46ms/step - accuracy: 0.4297 - loss: 2.8932\n",
      "Epoch 100/100\n",
      "242/242 - 11s - 47ms/step - accuracy: 0.4330 - loss: 2.8789\n"
     ]
    }
   ],
   "source": [
    "history = model.fit(predictors, label, epochs=100, batch_size=128, verbose=2)"
   ]
  },
  {
   "cell_type": "code",
   "execution_count": 7,
   "metadata": {
    "id": "1fXTEO3GJ282"
   },
   "outputs": [
    {
     "data": {
      "image/png": "[encoded data removed]",
      "text/plain": [
       "<Figure size 640x480 with 1 Axes>"
      ]
     },
     "metadata": {},
     "output_type": "display_data"
    },
    {
     "data": {
      "image/png": "[encoded data removed]",
      "text/plain": [
       "<Figure size 640x480 with 1 Axes>"
      ]
     },
     "metadata": {},
     "output_type": "display_data"
    }
   ],
   "source": [
    "import matplotlib.pyplot as plt\n",
    "acc = history.history['accuracy']\n",
    "loss = history.history['loss']\n",
    "\n",
    "epochs = range(len(acc))\n",
    "\n",
    "plt.plot(epochs, acc, 'b', label='Training accuracy')\n",
    "plt.title('Training accuracy')\n",
    "\n",
    "plt.figure()\n",
    "\n",
    "plt.plot(epochs, loss, 'b', label='Training Loss')\n",
    "plt.title('Training loss')\n",
    "plt.legend()\n",
    "\n",
    "plt.show()"
   ]
  },
  {
   "cell_type": "code",
   "execution_count": 16,
   "metadata": {
    "id": "6Vc6PHgxa6Hm",
    "tags": []
   },
   "outputs": [
    {
     "name": "stdout",
     "output_type": "stream",
     "text": [
      "Help me Obi Wan Kenobi, you're my only hope of view prove grew hate vow loves loves will more go another ‘will ’ is yet all thine eye to day saith men stand so cover thee evil die feeding ride plea wrack place of were dead decay loving part doth youth false all to be still still feel this black eye in time truth in thee for his breast that yet in this loving love thou find look less fair all be than still show thee it die decay eye bright bright bright bring bright hate one decay go up slain forth room err’d sauces ‘hues’ to fair one\n"
     ]
    }
   ],
   "source": [
    "seed_text = \"Help me Obi Wan Kenobi, you're my only hope\"\n",
    "next_words = 100\n",
    "  \n",
    "for _ in range(next_words):\n",
    "    # Convert seed text to sequence and pad\n",
    "    token_list = tokenizer.texts_to_sequences([seed_text])[0]\n",
    "    token_list = pad_sequences([token_list], maxlen=max_sequence_len - 1, padding='pre')\n",
    "\n",
    "    # Predict the next word\n",
    "    predicted_probs = model.predict(token_list, verbose=0)  # Get probabilities for each class\n",
    "    predicted_class = np.argmax(predicted_probs, axis=-1)   # Get the index of the highest probability\n",
    "\n",
    "    # Find the word corresponding to the predicted class index\n",
    "    output_word = \"\"\n",
    "    for word, index in tokenizer.word_index.items():\n",
    "        if index == predicted_class:\n",
    "            output_word = word\n",
    "            break\n",
    "\n",
    "    # Append the predicted word to the seed text\n",
    "    seed_text += \" \" + output_word\n",
    "\n",
    "print(seed_text)"
   ]
  }
 ],
 "metadata": {
  "accelerator": "GPU",
  "colab": {
   "name": "NLP_Week4_Exercise_Shakespeare_Question.ipynb",
   "provenance": [],
   "toc_visible": true
  },
  "kernelspec": {
   "display_name": "Python 3 (ipykernel)",
   "language": "python",
   "name": "python3"
  },
  "language_info": {
   "codemirror_mode": {
    "name": "ipython",
    "version": 3
   },
   "file_extension": ".py",
   "mimetype": "text/x-python",
   "name": "python",
   "nbconvert_exporter": "python",
   "pygments_lexer": "ipython3",
   "version": "3.11.7"
  }
 },
 "nbformat": 4,
 "nbformat_minor": 4
}
